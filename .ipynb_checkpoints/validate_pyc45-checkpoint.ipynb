{
 "cells": [
  {
   "cell_type": "code",
   "execution_count": 5,
   "metadata": {},
   "outputs": [
    {
     "name": "stdout",
     "output_type": "stream",
     "text": [
      "<DecisionTree>\n",
      "  <TSH flag=\"l\" p=\"0.89\" value=\"6.1\">\n",
      "    <TT4 flag=\"l\" p=\"0.001\" value=\"35.0\">secondary hypothyroid</TT4>\n",
      "    <TT4 flag=\"r\" p=\"0.999\" value=\"35.0\">negative</TT4>\n",
      "  </TSH>\n",
      "  <TSH flag=\"r\" p=\"0.11\" value=\"6.1\">\n",
      "    <FTI flag=\"l\" p=\"0.289\" value=\"65.0\">\n",
      "      <T4U flag=\"l\" p=\"0.981\" value=\"1.5\">\n",
      "        <thyroid_surgery flag=\"m\" p=\"0.038\" value=\"t\">\n",
      "          <age flag=\"l\" p=\"0.5\" value=\"50.0\">primary hypothyroid</age>\n",
      "          <age flag=\"r\" p=\"0.5\" value=\"50.0\">negative</age>\n",
      "        </thyroid_surgery>\n",
      "        <thyroid_surgery flag=\"m\" p=\"0.962\" value=\"f\">primary hypothyroid</thyroid_surgery>\n",
      "      </T4U>\n",
      "      <T4U flag=\"r\" p=\"0.019\" value=\"1.5\">negative</T4U>\n",
      "    </FTI>\n",
      "    <FTI flag=\"r\" p=\"0.711\" value=\"65.0\">\n",
      "      <on_thyroxine flag=\"m\" p=\"0.195\" value=\"t\">negative</on_thyroxine>\n",
      "      <on_thyroxine flag=\"m\" p=\"0.805\" value=\"f\">\n",
      "        <TT4 flag=\"l\" p=\"0.953\" value=\"160.0\">\n",
      "          <thyroid_surgery flag=\"m\" p=\"0.029\" value=\"t\">negative</thyroid_surgery>\n",
      "          <thyroid_surgery flag=\"m\" p=\"0.971\" value=\"f\">compensated hypothyroid</thyroid_surgery>\n",
      "        </TT4>\n",
      "        <TT4 flag=\"r\" p=\"0.047\" value=\"160.0\">negative</TT4>\n",
      "      </on_thyroxine>\n",
      "    </FTI>\n",
      "  </TSH>\n",
      "</DecisionTree>\n"
     ]
    },
    {
     "ename": "AttributeError",
     "evalue": "'dict' object has no attribute 'iteritems'",
     "output_type": "error",
     "traceback": [
      "\u001b[1;31m---------------------------------------------------------------------------\u001b[0m",
      "\u001b[1;31mAttributeError\u001b[0m                            Traceback (most recent call last)",
      "\u001b[1;32m<ipython-input-5-4581b219dc17>\u001b[0m in \u001b[0;36m<module>\u001b[1;34m\u001b[0m\n\u001b[0;32m     21\u001b[0m         \u001b[0manswer\u001b[0m\u001b[1;33m.\u001b[0m\u001b[0mpop\u001b[0m\u001b[1;33m(\u001b[0m\u001b[1;36m0\u001b[0m\u001b[1;33m)\u001b[0m\u001b[1;33m\u001b[0m\u001b[1;33m\u001b[0m\u001b[0m\n\u001b[0;32m     22\u001b[0m \u001b[1;33m\u001b[0m\u001b[0m\n\u001b[1;32m---> 23\u001b[1;33m     \u001b[0mprediction\u001b[0m\u001b[1;33m=\u001b[0m\u001b[0mpyC45\u001b[0m\u001b[1;33m.\u001b[0m\u001b[0mpredict\u001b[0m\u001b[1;33m(\u001b[0m\u001b[1;34m\"DecisionTree.xml\"\u001b[0m\u001b[1;33m,\u001b[0m\u001b[0mtesting_obs\u001b[0m\u001b[1;33m)\u001b[0m\u001b[1;33m\u001b[0m\u001b[1;33m\u001b[0m\u001b[0m\n\u001b[0m\u001b[0;32m     24\u001b[0m     \u001b[0merr\u001b[0m\u001b[1;33m=\u001b[0m\u001b[1;36m0\u001b[0m\u001b[1;33m\u001b[0m\u001b[1;33m\u001b[0m\u001b[0m\n\u001b[0;32m     25\u001b[0m     \u001b[1;32mfor\u001b[0m \u001b[0mi\u001b[0m \u001b[1;32min\u001b[0m \u001b[0mrange\u001b[0m\u001b[1;33m(\u001b[0m\u001b[0mlen\u001b[0m\u001b[1;33m(\u001b[0m\u001b[0manswer\u001b[0m\u001b[1;33m)\u001b[0m\u001b[1;33m)\u001b[0m\u001b[1;33m:\u001b[0m\u001b[1;33m\u001b[0m\u001b[1;33m\u001b[0m\u001b[0m\n",
      "\u001b[1;32m~\\Documents\\GitHub\\pyC45\\pyC45.py\u001b[0m in \u001b[0;36mpredict\u001b[1;34m(xmldir, testing_obs)\u001b[0m\n\u001b[0;32m    224\u001b[0m \u001b[1;33m\u001b[0m\u001b[0m\n\u001b[0;32m    225\u001b[0m         \u001b[0manswerlist\u001b[0m\u001b[1;33m=\u001b[0m\u001b[0mdecision\u001b[0m\u001b[1;33m(\u001b[0m\u001b[0mroot\u001b[0m\u001b[1;33m,\u001b[0m\u001b[0mtesting_obs\u001b[0m\u001b[1;33m[\u001b[0m\u001b[0mi\u001b[0m\u001b[1;33m]\u001b[0m\u001b[1;33m,\u001b[0m\u001b[0mattrs_names\u001b[0m\u001b[1;33m,\u001b[0m\u001b[1;36m1\u001b[0m\u001b[1;33m)\u001b[0m\u001b[1;33m\u001b[0m\u001b[1;33m\u001b[0m\u001b[0m\n\u001b[1;32m--> 226\u001b[1;33m         \u001b[0manswerlist\u001b[0m\u001b[1;33m=\u001b[0m\u001b[0msorted\u001b[0m\u001b[1;33m(\u001b[0m\u001b[0miter\u001b[0m\u001b[1;33m(\u001b[0m\u001b[0manswerlist\u001b[0m\u001b[1;33m.\u001b[0m\u001b[0mitems\u001b[0m\u001b[1;33m(\u001b[0m\u001b[1;33m)\u001b[0m\u001b[1;33m)\u001b[0m\u001b[1;33m,\u001b[0m \u001b[0mkey\u001b[0m\u001b[1;33m=\u001b[0m\u001b[1;32mlambda\u001b[0m \u001b[0mx\u001b[0m\u001b[1;33m:\u001b[0m\u001b[0mx\u001b[0m\u001b[1;33m[\u001b[0m\u001b[1;36m1\u001b[0m\u001b[1;33m]\u001b[0m\u001b[1;33m,\u001b[0m \u001b[0mreverse\u001b[0m \u001b[1;33m=\u001b[0m \u001b[1;32mTrue\u001b[0m \u001b[1;33m)\u001b[0m\u001b[1;33m\u001b[0m\u001b[1;33m\u001b[0m\u001b[0m\n\u001b[0m\u001b[0;32m    227\u001b[0m         \u001b[0manswer\u001b[0m\u001b[1;33m=\u001b[0m\u001b[0manswerlist\u001b[0m\u001b[1;33m[\u001b[0m\u001b[1;36m0\u001b[0m\u001b[1;33m]\u001b[0m\u001b[1;33m[\u001b[0m\u001b[1;36m0\u001b[0m\u001b[1;33m]\u001b[0m\u001b[1;33m\u001b[0m\u001b[1;33m\u001b[0m\u001b[0m\n\u001b[0;32m    228\u001b[0m         \u001b[0mprediction\u001b[0m\u001b[1;33m.\u001b[0m\u001b[0mappend\u001b[0m\u001b[1;33m(\u001b[0m\u001b[0manswer\u001b[0m\u001b[1;33m)\u001b[0m\u001b[1;33m\u001b[0m\u001b[1;33m\u001b[0m\u001b[0m\n",
      "\u001b[1;31mAttributeError\u001b[0m: 'dict' object has no attribute 'iteritems'"
     ]
    }
   ],
   "source": [
    "import pyC45,csv\n",
    "if __name__==\"__main__\":\n",
    "    #train a C45 decision tree and save the tree as an XML file\n",
    "    with open('./data/training_set.csv', newline='') as csvfile:\n",
    "        reader = csv.reader(csvfile)\n",
    "        training_obs=[]\n",
    "        training_cat=[]\n",
    "        for line in reader:\n",
    "            training_obs.append(line[:-1])\n",
    "            training_cat.append(line[-1])\n",
    "        pyC45.train(training_obs,training_cat,\"DecisionTree.xml\")\n",
    "    \n",
    "    #test the C45 decision tree \n",
    "    with open('./data/testing_set.csv', newline='') as csvfilet:\n",
    "        reader = csv.reader(csvfilet)\n",
    "        answer=[]\n",
    "        testing_obs=[]\n",
    "        for line in reader:\n",
    "            testing_obs.append(line[:-1])\n",
    "            answer.append(line[-1])\n",
    "        answer.pop(0)\n",
    "    \n",
    "    prediction=pyC45.predict(\"DecisionTree.xml\",testing_obs)\n",
    "    err=0\n",
    "    for i in range(len(answer)):\n",
    "        if not answer[i]==prediction[i]:\n",
    "            err=err+1\n",
    "    print(\"error rate=\",round(float(err)/len(prediction)*100,2),\"%\")"
   ]
  },
  {
   "cell_type": "code",
   "execution_count": null,
   "metadata": {},
   "outputs": [],
   "source": []
  }
 ],
 "metadata": {
  "kernelspec": {
   "display_name": "Python 3",
   "language": "python",
   "name": "python3"
  },
  "language_info": {
   "codemirror_mode": {
    "name": "ipython",
    "version": 3
   },
   "file_extension": ".py",
   "mimetype": "text/x-python",
   "name": "python",
   "nbconvert_exporter": "python",
   "pygments_lexer": "ipython3",
   "version": "3.7.4"
  }
 },
 "nbformat": 4,
 "nbformat_minor": 4
}
